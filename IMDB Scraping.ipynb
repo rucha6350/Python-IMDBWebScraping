{
 "cells": [
  {
   "cell_type": "code",
   "execution_count": 32,
   "id": "bdcbdcc0",
   "metadata": {},
   "outputs": [],
   "source": [
    "import requests as rq\n",
    "import openpyxl as op\n",
    "from bs4 import BeautifulSoup as bs\n",
    "\n",
    "excel = op.Workbook()                                                  #Create new workbook\n",
    "activeSheet = excel.active                                             #Get the active worksheet\n",
    "activeSheet.title = \"Top Movies\"                                       #Set title of sheet\n",
    "activeSheet.append(['Rank','Movie Name','Released Year','Ratings'])    #Add headers to sheet\n",
    "\n",
    "try:\n",
    "    URL=rq.get('https://www.imdb.com/chart/top')\n",
    "    URL.raise_for_status()\n",
    "    \n",
    "    movieList = bs(URL.text,'html.parser').find('tbody',class_=\"lister-list\").find_all('tr') \n",
    "    \n",
    "    for movie in movieList:\n",
    "        #name = movie.find('td',class_='titleColumn').a.text\n",
    "        rank = movie.find('td',class_='titleColumn').get_text(strip=True).split('.')[0]\n",
    "        name = movie.find('td',class_='titleColumn').a.text\n",
    "        year = movie.find('td',class_='titleColumn').span.text.strip('()')\n",
    "        rating = movie.find('td',class_=\"ratingColumn imdbRating\").strong.text  \n",
    "        #print(rank, name, year, rating)\n",
    "        activeSheet.append([rank, name, year, rating])\n",
    "    \n",
    "except Exception as e:\n",
    "    print(e)\n",
    "    \n",
    "excel.save('IMDB Top Movie List.xlsx')"
   ]
  }
 ],
 "metadata": {
  "kernelspec": {
   "display_name": "Python 3 (ipykernel)",
   "language": "python",
   "name": "python3"
  },
  "language_info": {
   "codemirror_mode": {
    "name": "ipython",
    "version": 3
   },
   "file_extension": ".py",
   "mimetype": "text/x-python",
   "name": "python",
   "nbconvert_exporter": "python",
   "pygments_lexer": "ipython3",
   "version": "3.10.9"
  }
 },
 "nbformat": 4,
 "nbformat_minor": 5
}
